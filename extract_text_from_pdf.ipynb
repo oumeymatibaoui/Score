import fitz  # PyMuPDF
import pytesseract
from PIL import Image
import io
from langdetect import detect

# Configuration de Tesseract OCR (changez le chemin selon votre installation)
pytesseract.pytesseract.tesseract_cmd = r'C:\Program Files\Tesseract-OCR\tesseract.exe'  # Windows
# Pour Linux/Mac: sudo apt install tesseract-ocr / brew install tesseract

def extract_text_from_pdf(pdf_path):
    text = ""
    is_scanned = False
    
    # Ouvrir le PDF avec PyMuPDF
    doc = fitz.open(pdf_path)
    
    for page in doc:
        # Essayer d'extraire le texte normal
        page_text = page.get_text()
        
        if page_text.strip():  # Si du texte est trouvé
            text += page_text
        else:  # PDF scanné - utiliser OCR
            is_scanned = True
            pix = page.get_pixmap()
            img = Image.open(io.BytesIO(pix.tobytes()))
            page_text = pytesseract.image_to_string(img)
            text += page_text
    
    return text, is_scanned

def detect_language(text):
    try:
        # On prend les premiers 500 caractères pour la détection (plus rapide)
        sample = text[:500]
        lang = detect(sample)
        if lang == 'fr':
            return "Français"
        elif lang == 'en':
            return "Anglais"
        else:
            return f"Autre langue ({lang})"
    except:
        return "Langue non détectée"

# Exemple d'utilisation
pdf_path = "C:/Users/OUMAIMA/Downloads/cv_oumeymaFinal (1).pdf"  # Remplacez par votre fichier PDF

# Extraire le texte
text, is_scanned = extract_text_from_pdf(pdf_path)
print(f"Texte extrait (scanné: {'oui' if is_scanned else 'non'}):\n{text[:200]}...")  # Affiche les 200 premiers caractères

# Détecter la langue
language = detect_language(text)
print(f"\nLangue détectée: {language}")